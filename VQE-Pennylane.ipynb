{
 "cells": [
  {
   "cell_type": "markdown",
   "metadata": {},
   "source": [
    "# QOSF Mentorship Program Screening Task - Kunal Sinha\n",
    "\n",
    "## TASK 4 - The chosen one\n",
    "\n",
    "#### Find the lowest eigenvalue of the following matrix:\n",
    "\n",
    "\\begin{bmatrix}\n",
    "1 & 0 & 0 & 0 \\\\\n",
    "0 & 0 & -1 & 0 \\\\\n",
    "0 & -1 & 0 & 0 \\\\\n",
    "0 & 0 & 0 & 1 \n",
    "\\end{bmatrix}\n",
    "\n",
    "#### using VQE-like circuits, created by yourself from scratch."
   ]
  },
  {
   "cell_type": "markdown",
   "metadata": {},
   "source": [
    "### My understanding of the task: \n",
    "\n",
    "After learning about VQE from here [[1]], here [[2]], and here [[3]], following were the steps I decided to follow - \n",
    "\n",
    "1. Decomposition of the given Hamiltonian into the sum of tensor products of Pauli operators (Pauli terms).\n",
    "2. Define an ansatz circuit.\n",
    "3. Create a quantum circuit for each of the Pauli term and compute the expectation value of each of the term.\n",
    "4. Try different wavefunctions (ansatz states) ∣ψ⟩ by varying the parameters of the ansatz circuit. The eigenvector ∣ψg⟩ that minimizes the expectation value ⟨H⟩ corresponds to the eigenvector of H that has the smallest eigenvalue.\n",
    "\n",
    "[1]: https://nbviewer.jupyter.org/github/DavitKhach/quantum-algorithms-tutorials/blob/master/variational_quantum_eigensolver.ipynb\n",
    "[2]: https://www.mustythoughts.com/variational-quantum-eigensolver-explained\n",
    "[3]: https://www.nature.com/articles/ncomms5213?origin=ppub"
   ]
  },
  {
   "cell_type": "markdown",
   "metadata": {},
   "source": [
    "### The exact ground state energy for the given Hamiltonian:"
   ]
  },
  {
   "cell_type": "code",
   "execution_count": 1,
   "metadata": {},
   "outputs": [],
   "source": [
    "import numpy as np\n",
    "from qiskit.aqua.operators import WeightedPauliOperator\n",
    "from qiskit.aqua.algorithms import NumPyEigensolver, VQE"
   ]
  },
  {
   "cell_type": "code",
   "execution_count": 2,
   "metadata": {},
   "outputs": [],
   "source": [
    "pauli_dict = {\n",
    "        'paulis': [{\"coeff\": {\"imag\": 0.0, \"real\": 0.5}, \"label\": \"II\"},\n",
    "                   {\"coeff\": {\"imag\": 0.0, \"real\": -0.5}, \"label\": \"XX\"},\n",
    "                   {\"coeff\": {\"imag\": 0.0, \"real\": -0.5}, \"label\": \"YY\"},\n",
    "                   {\"coeff\": {\"imag\": 0.0, \"real\": 0.5}, \"label\": \"ZZ\"}\n",
    "                   ]\n",
    "    }\n",
    "H = WeightedPauliOperator.from_dict(pauli_dict)"
   ]
  },
  {
   "cell_type": "code",
   "execution_count": 3,
   "metadata": {},
   "outputs": [
    {
     "name": "stdout",
     "output_type": "stream",
     "text": [
      "The exact ground state energy is: -1.0000000000000002\n"
     ]
    }
   ],
   "source": [
    "exact_result = NumPyEigensolver(H).run()\n",
    "reference_energy = min(np.real(exact_result.eigenvalues))\n",
    "print('The exact ground state energy is: {}'.format(reference_energy))"
   ]
  },
  {
   "cell_type": "code",
   "execution_count": 5,
   "metadata": {},
   "outputs": [],
   "source": [
    "import pennylane as qml\n",
    "from pennylane import numpy as np"
   ]
  },
  {
   "cell_type": "markdown",
   "metadata": {},
   "source": [
    "### Step 1: Decomposition\n",
    "\n",
    "The given two qubit Hamiltionian decomposes as follows:  \n",
    "begin{equation} \n",
    "H=0.5 * II-0.5 * XX-0.5 * YY+0.5 * ZZ\n",
    "end{equation}\n",
    "\n",
    "The above equation is obtained from the following code - "
   ]
  },
  {
   "cell_type": "code",
   "execution_count": 6,
   "metadata": {},
   "outputs": [],
   "source": [
    "def HS(M1, M2):\n",
    "    \"\"\"Hilbert-Schmidt-Product of two matrices M1, M2\"\"\"\n",
    "    return (np.dot(M1.conjugate().transpose(), M2)).trace()\n",
    "\n",
    "def complex2string(c):\n",
    "    \"\"\"Return a string representation of a complex number c\"\"\"\n",
    "    if c == 0.0:\n",
    "        return \"0\"\n",
    "    if c.imag == 0:\n",
    "        return \"%g\" % c.real\n",
    "    elif c.real == 0:\n",
    "        return \"%gj\" % c.imag\n",
    "    else:\n",
    "        return \"%g+%gj\" % (c.real, c.imag)\n",
    "\n",
    "def decompose(H):\n",
    "    \"\"\"Decompose Hermitian 4x4 matrix H into Pauli matrices\"\"\"\n",
    "    from numpy import kron\n",
    "    sx = np.array([[0, 1],  [ 1, 0]], dtype=np.complex128)\n",
    "    sy = np.array([[0, -1j],[1j, 0]], dtype=np.complex128)\n",
    "    sz = np.array([[1, 0],  [0, -1]], dtype=np.complex128)\n",
    "    id = np.array([[1, 0],  [ 0, 1]], dtype=np.complex128)\n",
    "    S = [id, sx, sy, sz]\n",
    "    operators = ['I', 'sigma_x', 'sigma_y', 'sigma_z']\n",
    "    for i in range(4):\n",
    "        for j in range(4):\n",
    "            operator = operators[i] + ' times ' + operators[j]\n",
    "            a_ij = 0.25 * HS(kron(S[i], S[j]), H)\n",
    "            if a_ij != 0.0:\n",
    "                print(\"%s\\t*\\t( %s )\" % (complex2string(a_ij), operator))"
   ]
  },
  {
   "cell_type": "code",
   "execution_count": 7,
   "metadata": {},
   "outputs": [
    {
     "name": "stdout",
     "output_type": "stream",
     "text": [
      "[[ 1.+0.j  0.+0.j  0.+0.j  0.+0.j]\n",
      " [ 0.+0.j  0.+0.j -1.+0.j  0.+0.j]\n",
      " [ 0.+0.j -1.+0.j  0.+0.j  0.+0.j]\n",
      " [ 0.+0.j  0.+0.j  0.+0.j  1.+0.j]]\n",
      "0.5\t*\t( I times I )\n",
      "-0.5\t*\t( sigma_x times sigma_x )\n",
      "-0.5\t*\t( sigma_y times sigma_y )\n",
      "0.5\t*\t( sigma_z times sigma_z )\n"
     ]
    }
   ],
   "source": [
    "H = np.array(([[1, 0, 0, 0],[0, 0, -1, 0], [0, -1, 0, 0],[0, 0, 0, 1]]), dtype=np.complex128)\n",
    "print(H)\n",
    "decompose(H)"
   ]
  },
  {
   "cell_type": "markdown",
   "metadata": {},
   "source": [
    "### Step 2: The Ansatz\n",
    "\n",
    "(I initially used the StronglyEntanglingLayers ansatz from Pennylane templates but later on tried the ansatz suggested in the tips)"
   ]
  },
  {
   "cell_type": "code",
   "execution_count": 8,
   "metadata": {},
   "outputs": [],
   "source": [
    "def ansatz(x, **kwargs): \n",
    "    qml.Hadamard(wires=0) \n",
    "    qml.CNOT(wires=[0, 1])\n",
    "    qml.RX(x[0], wires=0) "
   ]
  },
  {
   "cell_type": "markdown",
   "metadata": {},
   "source": [
    "### Step 3:  Creating the QNode (Quantum Circuit)"
   ]
  },
  {
   "cell_type": "code",
   "execution_count": 9,
   "metadata": {},
   "outputs": [],
   "source": [
    "num_layers = 2\n",
    "num_wires = 2"
   ]
  },
  {
   "cell_type": "code",
   "execution_count": 10,
   "metadata": {},
   "outputs": [],
   "source": [
    "# Defining the Hamiltonian\n",
    "coeffs = [0.5, -0.5, -0.5, 0.5]\n",
    "\n",
    "obs = [\n",
    "    qml.Identity(0) @ qml.Identity(1),\n",
    "    qml.PauliX(0) @ qml.PauliX(1),\n",
    "    qml.PauliY(0) @ qml.PauliY(1),\n",
    "    qml.PauliZ(0) @ qml.PauliZ(1)\n",
    "] # list of observables"
   ]
  },
  {
   "cell_type": "code",
   "execution_count": 11,
   "metadata": {},
   "outputs": [],
   "source": [
    "# A device that estimates expectation values using a finite number of shots\n",
    "dev = qml.device(\"default.qubit\", wires=num_wires)"
   ]
  },
  {
   "cell_type": "code",
   "execution_count": 12,
   "metadata": {},
   "outputs": [],
   "source": [
    "# QNode wraps the quantum function and binds it to the device.\n",
    "# map() allows a single function of quantum operations (the ansatz in our case)  \n",
    "# to be mapped across multiple observables(obs[]).\n",
    "\n",
    "qnodes = qml.map(ansatz, obs, device=dev)"
   ]
  },
  {
   "cell_type": "markdown",
   "metadata": {},
   "source": [
    "### Step 4: The cost function"
   ]
  },
  {
   "cell_type": "code",
   "execution_count": 13,
   "metadata": {},
   "outputs": [],
   "source": [
    "total_shots = 8000"
   ]
  },
  {
   "cell_type": "code",
   "execution_count": 14,
   "metadata": {},
   "outputs": [],
   "source": [
    "def cost(params):\n",
    "    shots_per_term = [2000, 2000, 2000, 2000] \n",
    "    result = 0\n",
    "\n",
    "    for h, c, s in zip(qnodes, coeffs, shots_per_term):\n",
    "        # setting the number of shots\n",
    "        h.device.shots = s\n",
    "\n",
    "        # evaluating the QNode corresponding to\n",
    "        # the Hamiltonian term, and adding it on to our running sum\n",
    "        result += c * h(params)\n",
    "\n",
    "    return result"
   ]
  },
  {
   "cell_type": "code",
   "execution_count": 15,
   "metadata": {
    "scrolled": true
   },
   "outputs": [
    {
     "name": "stdout",
     "output_type": "stream",
     "text": [
      "0.6967067093471655\n"
     ]
    }
   ],
   "source": [
    "init_params = [0.8]\n",
    "print(cost(init_params))"
   ]
  },
  {
   "cell_type": "markdown",
   "metadata": {},
   "source": [
    "### Step 5: Optimization (Using Gradient Descent)"
   ]
  },
  {
   "cell_type": "code",
   "execution_count": 16,
   "metadata": {
    "scrolled": true
   },
   "outputs": [
    {
     "name": "stdout",
     "output_type": "stream",
     "text": [
      "Step 0: cost = 0.670534129531718 shots used = 0\n",
      "Step 1: cost = 0.6425599797656292 shots used = 8000\n",
      "Step 2: cost = 0.6127398125747127 shots used = 16000\n",
      "Step 3: cost = 0.5810421461256896 shots used = 24000\n",
      "Step 4: cost = 0.5474507557270925 shots used = 32000\n",
      "Step 5: cost = 0.5119669351487525 shots used = 40000\n",
      "Step 6: cost = 0.47461163817764057 shots used = 48000\n",
      "Step 7: cost = 0.43542739822578225 shots used = 56000\n",
      "Step 8: cost = 0.39447991503911595 shots used = 64000\n",
      "Step 9: cost = 0.3518591943278058 shots used = 72000\n",
      "Step 10: cost = 0.30768013004017397 shots used = 80000\n",
      "Step 11: cost = 0.262082431279424 shots used = 88000\n",
      "Step 12: cost = 0.2152298171608953 shots used = 96000\n",
      "Step 13: cost = 0.16730843304026632 shots used = 104000\n",
      "Step 14: cost = 0.1185244793222852 shots used = 112000\n",
      "Step 15: cost = 0.06910108724625504 shots used = 120000\n",
      "Step 16: cost = 0.019274521450737672 shots used = 128000\n",
      "Step 17: cost = -0.03071016712054632 shots used = 136000\n",
      "Step 18: cost = -0.08060387642033279 shots used = 144000\n",
      "Step 19: cost = -0.13015838669839547 shots used = 152000\n",
      "Step 20: cost = -0.17913128653249083 shots used = 160000\n",
      "Step 21: cost = -0.2272906847708815 shots used = 168000\n",
      "Step 22: cost = -0.2744195153001616 shots used = 176000\n",
      "Step 23: cost = -0.3203192686396358 shots used = 184000\n",
      "Step 24: cost = -0.3648130221609545 shots used = 192000\n",
      "Step 25: cost = -0.4077476854681894 shots used = 200000\n",
      "Step 26: cost = -0.4489954248793313 shots used = 208000\n",
      "Step 27: cost = -0.48845427682030274 shots used = 216000\n",
      "Step 28: cost = -0.5260480006405306 shots used = 224000\n",
      "Step 29: cost = -0.5617252541841092 shots used = 232000\n",
      "Step 30: cost = -0.5954581988267657 shots used = 240000\n",
      "Step 31: cost = -0.6272406541743747 shots used = 248000\n",
      "Step 32: cost = -0.6570859267631826 shots used = 256000\n",
      "Step 33: cost = -0.6850244332033677 shots used = 264000\n",
      "Step 34: cost = -0.7111012280253894 shots used = 272000\n",
      "Step 35: cost = -0.7353735319630852 shots used = 280000\n",
      "Step 36: cost = -0.7579083394234335 shots used = 288000\n",
      "Step 37: cost = -0.7787801661085763 shots used = 296000\n",
      "Step 38: cost = -0.798068980500816 shots used = 304000\n",
      "Step 39: cost = -0.8158583471594876 shots used = 312000\n",
      "Step 40: cost = -0.8322337961182655 shots used = 320000\n",
      "Step 41: cost = -0.8472814214107444 shots used = 328000\n",
      "Step 42: cost = -0.8610867029412703 shots used = 336000\n",
      "Step 43: cost = -0.8737335394265844 shots used = 344000\n",
      "Step 44: cost = -0.8853034757145082 shots used = 352000\n",
      "Step 45: cost = -0.8958751051280986 shots used = 360000\n",
      "Step 46: cost = -0.9055236262561337 shots used = 368000\n",
      "Step 47: cost = -0.9143205334915745 shots used = 376000\n",
      "Step 48: cost = -0.9223334213159484 shots used = 384000\n",
      "Step 49: cost = -0.9296258835862217 shots used = 392000\n",
      "Step 50: cost = -0.9362574906924284 shots used = 400000\n",
      "Step 51: cost = -0.9422838292529518 shots used = 408000\n",
      "Step 52: cost = -0.9477565908734753 shots used = 416000\n",
      "Step 53: cost = -0.9527236983234404 shots used = 424000\n",
      "Step 54: cost = -0.9572294592172635 shots used = 432000\n",
      "Step 55: cost = -0.9613147388867465 shots used = 440000\n",
      "Step 56: cost = -0.9650171455740006 shots used = 448000\n",
      "Step 57: cost = -0.9683712223522096 shots used = 456000\n",
      "Step 58: cost = -0.9714086412955036 shots used = 464000\n",
      "Step 59: cost = -0.974158396376509 shots used = 472000\n",
      "Step 60: cost = -0.9766469923821055 shots used = 480000\n",
      "Step 61: cost = -0.9788986278183012 shots used = 488000\n",
      "Step 62: cost = -0.9809353703384518 shots used = 496000\n",
      "Step 63: cost = -0.9827773236899164 shots used = 504000\n",
      "Step 64: cost = -0.9844427855466634 shots used = 512000\n",
      "Step 65: cost = -0.9859483958922219 shots used = 520000\n",
      "Step 66: cost = -0.9873092758506073 shots used = 528000\n",
      "Step 67: cost = -0.9885391570427868 shots used = 536000\n",
      "Step 68: cost = -0.9896505016821855 shots used = 544000\n",
      "Step 69: cost = -0.9906546137225721 shots used = 552000\n",
      "Step 70: cost = -0.9915617414422048 shots used = 560000\n",
      "Step 71: cost = -0.9923811718951621 shots used = 568000\n",
      "Step 72: cost = -0.9931213176891512 shots used = 576000\n",
      "Step 73: cost = -0.993789796562787 shots used = 584000\n",
      "Step 74: cost = -0.9943935042377695 shots used = 592000\n",
      "Step 75: cost = -0.9949386810151918 shots used = 600000\n",
      "Step 76: cost = -0.9954309725726724 shots used = 608000\n",
      "Step 77: cost = -0.9958754854018916 shots used = 616000\n",
      "Step 78: cost = -0.9962768373058268 shots used = 624000\n",
      "Step 79: cost = -0.9966392033527193 shots used = 632000\n",
      "Step 80: cost = -0.9969663576603535 shots used = 640000\n",
      "Step 81: cost = -0.9972617113604136 shots used = 648000\n",
      "Step 82: cost = -0.9975283470688427 shots used = 656000\n",
      "Step 83: cost = -0.9977690501648524 shots used = 664000\n",
      "Step 84: cost = -0.9979863371586308 shots used = 672000\n",
      "Step 85: cost = -0.9981824814061826 shots used = 680000\n",
      "Step 86: cost = -0.9983595364091822 shots used = 688000\n",
      "Step 87: cost = -0.9985193569183337 shots used = 696000\n",
      "Step 88: cost = -0.998663618040537 shots used = 704000\n",
      "Step 89: cost = -0.9987938325331795 shots used = 712000\n",
      "Step 90: cost = -0.9989113664530747 shots used = 720000\n",
      "Step 91: cost = -0.9990174533129278 shots used = 728000\n",
      "Step 92: cost = -0.9991132068847071 shots used = 736000\n",
      "Step 93: cost = -0.9991996327768249 shots used = 744000\n",
      "Step 94: cost = -0.9992776389005894 shots used = 752000\n",
      "Step 95: cost = -0.999348044930894 shots used = 760000\n",
      "Step 96: cost = -0.9994115908564798 shots used = 768000\n",
      "Step 97: cost = -0.9994689447063223 shots used = 776000\n",
      "Step 98: cost = -0.999520709530661 shots used = 784000\n",
      "Step 99: cost = -0.9995674297078686 shots used = 792000\n"
     ]
    }
   ],
   "source": [
    "dev.shots = total_shots / len(coeffs)\n",
    "\n",
    "cost = qml.dot(coeffs, qnodes) \n",
    "\n",
    "opt = qml.GradientDescentOptimizer(0.05)\n",
    "params = init_params\n",
    "# print(params)\n",
    "\n",
    "cost_gdo = []\n",
    "shots_gdo = []\n",
    "\n",
    "for i in range(100):\n",
    "    params = opt.step(cost, params)\n",
    "    cost_gdo.append(cost(params))\n",
    "    shots_gdo.append(total_shots*i)\n",
    "    print(\"Step {}: cost = {} shots used = {}\".format(i, cost_gdo[-1], shots_gdo[-1]))"
   ]
  },
  {
   "cell_type": "code",
   "execution_count": 17,
   "metadata": {
    "scrolled": true
   },
   "outputs": [
    {
     "data": {
      "image/png": "[encoded data removed]",
      "text/plain": [
       "<Figure size 576x396 with 1 Axes>"
      ]
     },
     "metadata": {},
     "output_type": "display_data"
    }
   ],
   "source": [
    "from matplotlib import pyplot as plt\n",
    "\n",
    "plt.style.use(\"seaborn\")\n",
    "plt.plot(shots_gdo, cost_gdo, \"g\", label=\"Gradient Descent\")\n",
    "\n",
    "plt.ylabel(\"Cost function value\")\n",
    "plt.xlabel(\"Number of shots\")\n",
    "plt.legend()\n",
    "plt.show()\n"
   ]
  },
  {
   "cell_type": "markdown",
   "metadata": {},
   "source": [
    "### As we can see from the above plot the 'Cost function value' which in our case is the Eigen Value, approaches the exact value, i.e. -1"
   ]
  },
  {
   "cell_type": "markdown",
   "metadata": {},
   "source": [
    "## With Pennylane 'StronglyEntanglingLayers' as the ansatz: \n",
    "StronglyEntanglingLayers - Layers consisting of single qubit rotations and entanglers, inspired by the circuit-centric classifier design https://arxiv.org/pdf/1804.00633.pdf."
   ]
  },
  {
   "cell_type": "code",
   "execution_count": 18,
   "metadata": {},
   "outputs": [],
   "source": [
    "from pennylane.templates.layers import StronglyEntanglingLayers\n",
    "from pennylane.init import strong_ent_layers_uniform\n",
    "init_params = strong_ent_layers_uniform(n_layers=num_layers, n_wires=num_wires)"
   ]
  },
  {
   "cell_type": "code",
   "execution_count": 19,
   "metadata": {
    "scrolled": true
   },
   "outputs": [
    {
     "name": "stdout",
     "output_type": "stream",
     "text": [
      "Step 0: cost = 0.9293330110343727 shots used = 0\n",
      "Step 1: cost = 0.910474064098698 shots used = 8000\n",
      "Step 2: cost = 0.8868508506401009 shots used = 16000\n",
      "Step 3: cost = 0.8574204620311121 shots used = 24000\n",
      "Step 4: cost = 0.8210045713668757 shots used = 32000\n",
      "Step 5: cost = 0.7763261357796948 shots used = 40000\n",
      "Step 6: cost = 0.7220826184921886 shots used = 48000\n",
      "Step 7: cost = 0.657066897075075 shots used = 56000\n",
      "Step 8: cost = 0.5803422166267924 shots used = 64000\n",
      "Step 9: cost = 0.49146546309925027 shots used = 72000\n",
      "Step 10: cost = 0.39073228336155685 shots used = 80000\n",
      "Step 11: cost = 0.27939109621394476 shots used = 88000\n",
      "Step 12: cost = 0.15975107021786938 shots used = 96000\n",
      "Step 13: cost = 0.03510865915696304 shots used = 104000\n",
      "Step 14: cost = -0.09054641211913084 shots used = 112000\n",
      "Step 15: cost = -0.21301322472092504 shots used = 120000\n",
      "Step 16: cost = -0.32843887124476184 shots used = 128000\n",
      "Step 17: cost = -0.4338030767684553 shots used = 136000\n",
      "Step 18: cost = -0.5272023067311883 shots used = 144000\n",
      "Step 19: cost = -0.6078871171324696 shots used = 152000\n",
      "Step 20: cost = -0.676093917781535 shots used = 160000\n",
      "Step 21: cost = -0.7327636868723277 shots used = 168000\n",
      "Step 22: cost = -0.7792425511805265 shots used = 176000\n",
      "Step 23: cost = -0.8170289582656711 shots used = 184000\n",
      "Step 24: cost = -0.8475945736504533 shots used = 192000\n",
      "Step 25: cost = -0.8722778289106855 shots used = 200000\n",
      "Step 26: cost = -0.892234779524224 shots used = 208000\n",
      "Step 27: cost = -0.9084285681346089 shots used = 216000\n",
      "Step 28: cost = -0.9216413115701736 shots used = 224000\n",
      "Step 29: cost = -0.9324967064745964 shots used = 232000\n",
      "Step 30: cost = -0.941485921660103 shots used = 240000\n",
      "Step 31: cost = -0.9489926085905658 shots used = 248000\n",
      "Step 32: cost = -0.9553150419914977 shots used = 256000\n",
      "Step 33: cost = -0.960684715882459 shots used = 264000\n",
      "Step 34: cost = -0.9652814331839181 shots used = 272000\n",
      "Step 35: cost = -0.9692452631505102 shots used = 280000\n",
      "Step 36: cost = -0.9726858593837313 shots used = 288000\n",
      "Step 37: cost = -0.9756896346763514 shots used = 296000\n",
      "Step 38: cost = -0.9783252388731786 shots used = 304000\n",
      "Step 39: cost = -0.9806477166852123 shots used = 312000\n",
      "Step 40: cost = -0.982701651775082 shots used = 320000\n",
      "Step 41: cost = -0.9845235396512404 shots used = 328000\n",
      "Step 42: cost = -0.9861435779251309 shots used = 336000\n",
      "Step 43: cost = -0.987587018577918 shots used = 344000\n",
      "Step 44: cost = -0.9888751921039138 shots used = 352000\n",
      "Step 45: cost = -0.9900262863558522 shots used = 360000\n",
      "Step 46: cost = -0.9910559421743467 shots used = 368000\n",
      "Step 47: cost = -0.9919777121341455 shots used = 376000\n",
      "Step 48: cost = -0.9928034168745965 shots used = 384000\n",
      "Step 49: cost = -0.9935434245975553 shots used = 392000\n",
      "Step 50: cost = -0.994206872696157 shots used = 400000\n",
      "Step 51: cost = -0.9948018455641878 shots used = 408000\n",
      "Step 52: cost = -0.9953355189995734 shots used = 416000\n",
      "Step 53: cost = -0.9958142789309485 shots used = 424000\n",
      "Step 54: cost = -0.9962438202175963 shots used = 432000\n",
      "Step 55: cost = -0.9966292298162198 shots used = 440000\n",
      "Step 56: cost = -0.9969750575358152 shots used = 448000\n",
      "Step 57: cost = -0.9972853768126151 shots used = 456000\n",
      "Step 58: cost = -0.9975638373553113 shots used = 464000\n",
      "Step 59: cost = -0.9978137110812693 shots used = 472000\n",
      "Step 60: cost = -0.9980379324462098 shots used = 480000\n",
      "Step 61: cost = -0.9982391340332735 shots used = 488000\n",
      "Step 62: cost = -0.9984196780903696 shots used = 496000\n",
      "Step 63: cost = -0.9985816845714134 shots used = 504000\n",
      "Step 64: cost = -0.9987270561358307 shots used = 512000\n",
      "Step 65: cost = -0.9988575004829968 shots used = 520000\n",
      "Step 66: cost = -0.9989745503379275 shots used = 528000\n",
      "Step 67: cost = -0.9990795813571222 shots used = 536000\n",
      "Step 68: cost = -0.9991738281855296 shots used = 544000\n",
      "Step 69: cost = -0.9992583988650215 shots used = 552000\n",
      "Step 70: cost = -0.9993342877695285 shots used = 560000\n",
      "Step 71: cost = -0.9994023872210123 shots used = 568000\n",
      "Step 72: cost = -0.9994634979227299 shots used = 576000\n",
      "Step 73: cost = -0.9995183383310826 shots used = 584000\n",
      "Step 74: cost = -0.9995675530742197 shots used = 592000\n",
      "Step 75: cost = -0.9996117205141778 shots used = 600000\n",
      "Step 76: cost = -0.9996513595392428 shots used = 608000\n",
      "Step 77: cost = -0.9996869356643729 shots used = 616000\n",
      "Step 78: cost = -0.9997188665095933 shots used = 624000\n",
      "Step 79: cost = -0.9997475267192288 shots used = 632000\n",
      "Step 80: cost = -0.9997732523785174 shots used = 640000\n",
      "Step 81: cost = -0.999796344978501 shots used = 648000\n",
      "Step 82: cost = -0.9998170749749599 shots used = 656000\n",
      "Step 83: cost = -0.9998356849826071 shots used = 664000\n",
      "Step 84: cost = -0.9998523926416147 shots used = 672000\n",
      "Step 85: cost = -0.9998673931898268 shots used = 680000\n",
      "Step 86: cost = -0.99988086177066 shots used = 688000\n",
      "Step 87: cost = -0.9998929555036843 shots used = 696000\n",
      "Step 88: cost = -0.999903815342135 shots used = 704000\n",
      "Step 89: cost = -0.9999135677391799 shots used = 712000\n",
      "Step 90: cost = -0.9999223261425322 shots used = 720000\n",
      "Step 91: cost = -0.9999301923350243 shots used = 728000\n",
      "Step 92: cost = -0.9999372576369683 shots used = 736000\n",
      "Step 93: cost = -0.9999436039845093 shots used = 744000\n",
      "Step 94: cost = -0.999949304896734 shots used = 752000\n",
      "Step 95: cost = -0.9999544263429867 shots used = 760000\n",
      "Step 96: cost = -0.9999590275206804 shots used = 768000\n",
      "Step 97: cost = -0.9999631615528322 shots used = 776000\n",
      "Step 98: cost = -0.9999668761135986 shots used = 784000\n",
      "Step 99: cost = -0.9999702139892475 shots used = 792000\n"
     ]
    }
   ],
   "source": [
    "dev.shots = total_shots / len(coeffs)\n",
    "\n",
    "qnodes = qml.map(StronglyEntanglingLayers, obs, device=dev)\n",
    "cost = qml.dot(coeffs, qnodes)\n",
    "\n",
    "opt = qml.GradientDescentOptimizer(0.05)\n",
    "params = init_params\n",
    "# print(params)\n",
    "\n",
    "cost_gdo = []\n",
    "shots_gdo = []\n",
    "\n",
    "for i in range(100):\n",
    "    params = opt.step(cost, params)\n",
    "    cost_gdo.append(cost(params))\n",
    "    shots_gdo.append(total_shots*i)\n",
    "    print(\"Step {}: cost = {} shots used = {}\".format(i, cost_gdo[-1], shots_gdo[-1]))"
   ]
  },
  {
   "cell_type": "code",
   "execution_count": 20,
   "metadata": {
    "scrolled": true
   },
   "outputs": [
    {
     "data": {
      "image/png": "[encoded data removed]",
      "text/plain": [
       "<Figure size 576x396 with 1 Axes>"
      ]
     },
     "metadata": {},
     "output_type": "display_data"
    }
   ],
   "source": [
    "plt.style.use(\"seaborn\")\n",
    "plt.plot(shots_gdo, cost_gdo, \"g\", label=\"Gradient Descent\")\n",
    "\n",
    "plt.ylabel(\"Cost function value\")\n",
    "plt.xlabel(\"Number of shots\")\n",
    "plt.legend()\n",
    "plt.show()"
   ]
  },
  {
   "cell_type": "markdown",
   "metadata": {},
   "source": [
    "## References:\n",
    "[1] : https://nbviewer.jupyter.org/github/DavitKhach/quantum-algorithms-tutorials/blob/master/variational_quantum_eigensolver.ipynb \n"
   ]
  },
  {
   "cell_type": "markdown",
   "metadata": {},
   "source": [
    "[2] : https://www.mustythoughts.com/variational-quantum-eigensolver-explained\n"
   ]
  },
  {
   "cell_type": "markdown",
   "metadata": {},
   "source": [
    "[3] : https://www.nature.com/articles/ncomms5213?origin=ppub"
   ]
  },
  {
   "cell_type": "markdown",
   "metadata": {},
   "source": [
    "## Appendix"
   ]
  },
  {
   "cell_type": "markdown",
   "metadata": {},
   "source": [
    "### Why did I use Pennylane?\n",
    "I have recently started learning Pennylane and wanted to try out implementing VQE in it. \n",
    "Plus I first implemented everything in Qiskit following [[1]]. It pretty much seemed like copy-paste work (code wise). So yeah, doing the Pennylane implemention was more fun. \n",
    "\n",
    "[1]: https://nbviewer.jupyter.org/github/DavitKhach/quantum-algorithms-tutorials/blob/master/variational_quantum_eigensolver.ipynb "
   ]
  },
  {
   "cell_type": "markdown",
   "metadata": {},
   "source": [
    "### Defining the circuit in Qiskit"
   ]
  },
  {
   "cell_type": "code",
   "execution_count": 21,
   "metadata": {},
   "outputs": [],
   "source": [
    "def ansatz(circuit, parameters):\n",
    "    q = circuit.qregs[0] # q is the quantum register where the info about qubits is stored\n",
    "    circuit.h(q[0])\n",
    "    circuit.cx(q[0], q[1])\n",
    "    circuit.rx(parameters[0], q[0])\n",
    "    circuit.id(q[1])\n",
    "    return circuit"
   ]
  },
  {
   "cell_type": "code",
   "execution_count": 22,
   "metadata": {},
   "outputs": [],
   "source": [
    "def vqe_circuit(parameters, measure):\n",
    "    \"\"\"\n",
    "    Creates a device ansatz circuit for optimization.\n",
    "    :param parameters_array: list of parameters for constructing ansatz state that should be optimized.\n",
    "    :param measure: measurement type. \n",
    "    :return: quantum circuit.\n",
    "    \"\"\"\n",
    "    q = QuantumRegister(2)\n",
    "    c = ClassicalRegister(2)\n",
    "    circuit = QuantumCircuit(q, c)\n",
    "\n",
    "    # quantum state preparation\n",
    "    circuit = ansatz(circuit, parameters)\n",
    "\n",
    "    # measurement\n",
    "    if measure == 'ZZ':\n",
    "        circuit.measure([0,1], [0,1])\n",
    "    elif measure == 'XX':\n",
    "        circuit.h(q[0])\n",
    "        circuit.h(q[1])\n",
    "        circuit.measure([0,1], [0,1])\n",
    "    elif measure == 'YY':\n",
    "        circuit.y(q[0])\n",
    "        circuit.y(q[1])\n",
    "        circuit.measure([0,1], [0,1])\n",
    "    else:\n",
    "        raise ValueError('Not valid input for measurement: input should be \"XX\" or \"YY\" or \"ZZ\"')\n",
    "\n",
    "    return circuit"
   ]
  },
  {
   "cell_type": "markdown",
   "metadata": {},
   "source": [
    "## Thank you for the opportunity! :)"
   ]
  }
 ],
 "metadata": {
  "kernelspec": {
   "display_name": "Python 3",
   "language": "python",
   "name": "python3"
  },
  "language_info": {
   "codemirror_mode": {
    "name": "ipython",
    "version": 3
   },
   "file_extension": ".py",
   "mimetype": "text/x-python",
   "name": "python",
   "nbconvert_exporter": "python",
   "pygments_lexer": "ipython3",
   "version": "3.7.4"
  }
 },
 "nbformat": 4,
 "nbformat_minor": 2
}
